{
  "nbformat": 4,
  "nbformat_minor": 0,
  "metadata": {
    "colab": {
      "provenance": []
    },
    "kernelspec": {
      "name": "python3",
      "display_name": "Python 3"
    },
    "language_info": {
      "name": "python"
    }
  },
  "cells": [
    {
      "cell_type": "code",
      "execution_count": 1,
      "metadata": {
        "id": "0Edqqww1GZCS"
      },
      "outputs": [],
      "source": [
        "import numpy as np\n",
        "import pandas as pd\n",
        "import torch \n",
        "import torch.nn as nn\n",
        "import torch.nn.parallel \n",
        "import torch.optim as optim\n",
        "import torch.utils.data\n",
        "from torch.autograd import Variable"
      ]
    },
    {
      "cell_type": "code",
      "source": [
        "movies = pd.read_csv('movies.dat',sep = '::',header = None, engine = 'python', encoding = 'latin-1')\n",
        "users =  pd.read_csv('users.dat',sep = '::',header = None, engine = 'python', encoding = 'latin-1')\n",
        "ratings = pd.read_csv('ratings.dat',sep = '::',header = None, engine = 'python', encoding = 'latin-1')"
      ],
      "metadata": {
        "id": "oHMRjKdBGeWY"
      },
      "execution_count": 2,
      "outputs": []
    },
    {
      "cell_type": "code",
      "source": [
        "training_set = pd.read_csv('u1.base', delimiter = '\\t')\n",
        "training_set = np.array(training_set, dtype = 'int')#converting training set into array from dataframe\n",
        "test_set = pd.read_csv('u1.test', delimiter = '\\t')\n",
        "test_set = np.array(test_set, dtype = 'int')\n",
        "print(training_set)\n",
        "print(test_set)"
      ],
      "metadata": {
        "colab": {
          "base_uri": "https://localhost:8080/"
        },
        "id": "hKZWXI1wPBe7",
        "outputId": "ef165c85-468d-4e09-f7ec-40f56689c247"
      },
      "execution_count": 3,
      "outputs": [
        {
          "output_type": "stream",
          "name": "stdout",
          "text": [
            "[[        1         2         3 876893171]\n",
            " [        1         3         4 878542960]\n",
            " [        1         4         3 876893119]\n",
            " ...\n",
            " [      943      1188         3 888640250]\n",
            " [      943      1228         3 888640275]\n",
            " [      943      1330         3 888692465]]\n",
            "[[        1        10         3 875693118]\n",
            " [        1        12         5 878542960]\n",
            " [        1        14         5 874965706]\n",
            " ...\n",
            " [      459       934         3 879563639]\n",
            " [      460        10         3 882912371]\n",
            " [      462       682         5 886365231]]\n"
          ]
        }
      ]
    },
    {
      "cell_type": "code",
      "source": [
        "#converting training and test set into a matrix where rows are going to be users, columns are going be movies and cells are going to be ratings\n",
        "tot_users = int(max(max(training_set[:,0]),max(test_set[:,0])))\n",
        "print(tot_users)\n",
        "tot_movies = int(max(max(training_set[:,1]),max(test_set[:,1])))\n",
        "print(tot_movies)\n",
        "def convert(data):\n",
        "  #here we are going to convert into list of lists instead of a 2d array as we are going to use torch in further\n",
        "  new_data = []\n",
        "  for i_users in range(1,tot_users+1):\n",
        "    i_movies = data[:,1][data[:,0] == i_users]\n",
        "    i_ratings = data[:,2][data[:,0] == i_users]\n",
        "    ratings = np.zeros(tot_movies)\n",
        "    ratings[i_movies - 1] = i_ratings\n",
        "    new_data.append(list(ratings))\n",
        "  return new_data\n",
        "\n",
        "training_set = convert(training_set)\n",
        "test_set = convert(test_set)\n",
        "\n",
        "print(training_set)\n",
        "print(test_set)"
      ],
      "metadata": {
        "colab": {
          "base_uri": "https://localhost:8080/"
        },
        "id": "OFhTs9kMRNJL",
        "outputId": "ec447544-9f3e-4cd3-f288-3a6529a7d4b1"
      },
      "execution_count": 10,
      "outputs": [
        {
          "output_type": "stream",
          "name": "stdout",
          "text": [
            "943\n",
            "1682\n"
          ]
        },
        {
          "output_type": "stream",
          "name": "stderr",
          "text": [
            "IOPub data rate exceeded.\n",
            "The notebook server will temporarily stop sending output\n",
            "to the client in order to avoid crashing it.\n",
            "To change this limit, set the config variable\n",
            "`--NotebookApp.iopub_data_rate_limit`.\n",
            "\n",
            "Current values:\n",
            "NotebookApp.iopub_data_rate_limit=1000000.0 (bytes/sec)\n",
            "NotebookApp.rate_limit_window=3.0 (secs)\n",
            "\n"
          ]
        }
      ]
    },
    {
      "cell_type": "code",
      "source": [
        "#creating the architecture of neural network i.e., stacked auto encoder\n",
        "class SAE(nn.Module):\n",
        "    def __init__(self, ):\n",
        "        super(SAE, self).__init__()\n",
        "        self.fc1 = nn.Linear(tot_movies, 20)\n",
        "        self.fc2 = nn.Linear(20, 10)\n",
        "        self.fc3 = nn.Linear(10, 20) #reconstructing\n",
        "        self.fc4 = nn.Linear(20, tot_movies)\n",
        "        self.activation = nn.Sigmoid()\n",
        "    def forward(self, x):\n",
        "        x = self.activation(self.fc1(x)) #starting to encode\n",
        "        x = self.activation(self.fc2(x))\n",
        "        x = self.activation(self.fc3(x)) #starting to decode\n",
        "        x = self.fc4(x)\n",
        "        return x\n",
        "sae = SAE()\n",
        "criterion = nn.MSELoss()\n",
        "optimizer = optim.RMSprop(sae.parameters(), lr = 0.01, weight_decay = 0.5)\n"
      ],
      "metadata": {
        "id": "ji6E2_3vT96M"
      },
      "execution_count": 4,
      "outputs": []
    },
    {
      "cell_type": "code",
      "source": [
        "#training SAE\n",
        "tot_epoch = 200\n",
        "for epoch in range(1, tot_epoch + 1):\n",
        "    train_loss = 0\n",
        "    s = 0.\n",
        "    for i_user in range(tot_users):\n",
        "        input = Variable(training_set[i_user]).unsqueeze(0)\n",
        "        target = input.clone()\n",
        "        if torch.sum(target.data > 0) > 0:\n",
        "            output = sae(input)\n",
        "            target.require_grad = False\n",
        "            output[target == 0] = 0\n",
        "            loss = criterion(output, target)\n",
        "            mean_corrector = tot_movies/float(torch.sum(target.data > 0) + 1e-10)\n",
        "            loss.backward()\n",
        "            train_loss += np.sqrt(loss.data[0]*mean_corrector)\n",
        "            s += 1.\n",
        "            optimizer.step()\n",
        "    print('epoch: ' + str(epoch) + ' loss: ' + str(train_loss/s))\n"
      ],
      "metadata": {
        "id": "kxQjWubY3c39"
      },
      "execution_count": null,
      "outputs": []
    },
    {
      "cell_type": "code",
      "source": [
        "#testing SAE\n",
        "test_loss = 0\n",
        "s = 0.\n",
        "for i_user in range(tot_users):\n",
        "    input = Variable(training_set[i_user]).unsqueeze(0)\n",
        "    target = Variable(test_set[i_user])\n",
        "    if torch.sum(target.data > 0) > 0:\n",
        "        output = sae(input)\n",
        "        target.require_grad = False\n",
        "        output[target == 0] = 0\n",
        "        loss = criterion(output, target)\n",
        "        mean_corrector = tot_movies/float(torch.sum(target.data > 0) + 1e-10)\n",
        "        test_loss += np.sqrt(loss.data[0]*mean_corrector)\n",
        "        s += 1.\n",
        "print('test_loss: ' + str(test_loss/s))\n"
      ],
      "metadata": {
        "id": "8P4mf99X3f0n"
      },
      "execution_count": null,
      "outputs": []
    }
  ]
}